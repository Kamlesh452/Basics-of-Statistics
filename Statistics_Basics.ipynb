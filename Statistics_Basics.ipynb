{
  "nbformat": 4,
  "nbformat_minor": 0,
  "metadata": {
    "colab": {
      "provenance": []
    },
    "kernelspec": {
      "name": "python3",
      "display_name": "Python 3"
    },
    "language_info": {
      "name": "python"
    }
  },
  "cells": [
    {
      "cell_type": "markdown",
      "source": [
        "1. Explain the different types of data (qualitative and quantitative) and provide examples of each. Discuss\n",
        "nominal, ordinal, interval, and ratio scales.\n",
        " >>>Qualitative Data (Categorical Data):\n",
        "    Qualitative data represent categories or groups that describe attributes or characteristics. This type of data cannot be measured numerically but can often be classified.\n",
        "\n",
        "\n",
        "    Examples:\n",
        "            Colors of cars (e.g., red, blue, green)\n",
        "            Types of cuisine (e.g., Italian, Mexican, Indian)\n",
        "            Gender (e.g., male, female, non-binary)\n",
        "            Yes/No responses (e.g., \"Did you like the service?\" Yes/No)\n",
        "\n",
        "\n",
        "\n",
        "    >>>Quantitative Data (Numerical Data):\n",
        "    Quantitative data represent measurable quantities that can be expressed numerically. This type of data is used for calculations and statistical analysis.\n",
        "\n",
        "    Examples:\n",
        "            Height of individuals (e.g., 5.8 feet, 170 cm)\n",
        "            Age (e.g., 25 years, 40 years)\n",
        "            Number of items sold in a store (e.g., 100, 200)\n",
        "            Temperature in degrees (e.g., 72°F, 22°C)\n",
        "\n",
        "\n",
        "\n",
        "\n",
        "\n",
        "\n",
        "\n",
        "\n"
      ],
      "metadata": {
        "id": "_8XG2h7T9366"
      }
    },
    {
      "cell_type": "markdown",
      "source": [
        "2. What are the measures of central tendency, and when should you use each? Discuss the mean, median,\n",
        "and mode with examples and situations where each is appropriate.\n",
        "\n",
        "  >>>Measures of central tendency are statistical tools used to identify the central or typical value in a data set. The three primary measures are the mean, median, and mode. Each has specific applications and is useful in different situations.\n",
        "\n",
        "  >>>Mean\n",
        "     The mean is the arithmetic average of a data set, calculated by summing all the values and dividing by the number of values.\n",
        "\n",
        "  >>>Median\n",
        "    The median is the middle value in an ordered data set. If the number of values is odd, the median is the middle value; if even, it is the average of the two middle values.\n",
        "\n",
        "  >>> Mode\n",
        "    The mode is the value or category that appears most frequently in a dataset. There may be no mode, one mode (unimodal), or multiple modes (bimodal or multimodal)."
      ],
      "metadata": {
        "id": "L7sQq9Ja_Lp3"
      }
    },
    {
      "cell_type": "markdown",
      "source": [
        "3. Explain the concept of dispersion. How do variance and standard deviation measure the spread of data?\n",
        "   >>>Dispersion refers to the spread or variability of data in a dataset. It measures how much individual data points differ from the central tendency (mean, median, or mode) and from one another. Dispersion helps to understand whether the data points are closely clustered or widely spread around the central value.\n",
        "\n",
        "   >>>"
      ],
      "metadata": {
        "id": "Upkz5JQB91CY"
      }
    },
    {
      "cell_type": "markdown",
      "source": [
        "4. What is a box plot, and what can it tell you about the distribution of data?\n",
        "  >>>A box plot is a graphical representation of data distribution that summarizes key statistical features, including the central tendency, variability, and potential outliers. It is a compact way to visualize the spread and skewness of a dataset.\n",
        "\n"
      ],
      "metadata": {
        "id": "--rPmRuVaVCN"
      }
    },
    {
      "cell_type": "markdown",
      "source": [
        "5. Discuss the role of random sampling in making inferences about populations.\n",
        "  >>>Random sampling is a method of selecting a subset of individuals from a larger population in such a way that every individual has an equal chance of being chosen. This technique plays a crucial role in statistical analysis, as it allows researchers to make inferences about an entire population based on the data from the sample.\n",
        "\n"
      ],
      "metadata": {
        "id": "U3RcJgBAaoay"
      }
    },
    {
      "cell_type": "markdown",
      "source": [
        "6. Explain the concept of skewness and its types. How does skewness affect the interpretation of data?\n",
        "   >>>Skewness is a measure of the asymmetry of a dataset's distribution around its mean. A perfectly symmetrical distribution, such as the normal distribution, has zero skewness. When a dataset is not symmetrical, it can be skewed to the left (negative skew) or to the right (positive skew).\n",
        "\n"
      ],
      "metadata": {
        "id": "3Q0VK7-Ca1Hs"
      }
    },
    {
      "cell_type": "markdown",
      "source": [
        "7. What is the interquartile range (IQR), and how is it used to detect outliers?\n",
        "  >>>The Interquartile Range (IQR) measures the spread of the middle 50% of a dataset. It is calculated as the difference between the third quartile (Q3) and the first quartile (Q1):\n",
        "\n",
        "         IQR=𝑄3−𝑄1\n"
      ],
      "metadata": {
        "id": "ClQj_be6bcxu"
      }
    },
    {
      "cell_type": "markdown",
      "source": [
        "8.  Discuss the conditions under which the binomial distribution is used.\n",
        "   >>>The binomial distribution is a probability distribution that models the number of successes in a fixed number of independent trials, where each trial has only two possible outcomes: success or failure.\n",
        "\n"
      ],
      "metadata": {
        "id": "wUAIYuDMb_us"
      }
    },
    {
      "cell_type": "markdown",
      "source": [
        "9. Explain the properties of the normal distribution and the empirical rule (68-95-99.7 rule)?\n",
        " >>>The normal distribution, also called the Gaussian distribution, is a bell-shaped and symmetric probability distribution widely used in statistics."
      ],
      "metadata": {
        "id": "myDFkaaLcYdU"
      }
    },
    {
      "cell_type": "markdown",
      "source": [
        "10. Provide a real-life example of a Poisson process and calculate the probability for a specific event.\n",
        "\n",
        "    >>>A Poisson process is a type of stochastic process that models the occurrence of events happening at a constant average rate over time or space, where these events occur independently of each other. The key characteristics of a Poisson process include:\n",
        "\n",
        "    Events occur at a constant average rate (λ).\n",
        "    Events are independent of each other.\n",
        "    Events cannot happen simultaneously (i.e., there is no overlap)."
      ],
      "metadata": {
        "id": "YAv9Qlb4co2i"
      }
    },
    {
      "cell_type": "markdown",
      "source": [
        "11. Explain what a random variable is and differentiate between discrete and continuous random variables.\n",
        ">>>A random variable is a numerical outcome of a random phenomenon or experiment. It is a function that assigns a real number to each outcome in a sample space, representing the result of a random experiment. Random variables are used in probability theory and statistics to quantify uncertain outcomes.\n",
        "\n",
        "\n"
      ],
      "metadata": {
        "id": "rh6lkdnHdHOj"
      }
    },
    {
      "cell_type": "markdown",
      "source": [
        "12. Provide an example dataset, calculate both covariance and correlation, and interpret the results.\n",
        ">>>Covariance measures the degree to which two variables change together. A positive covariance indicates that as one variable increases, the other tends to increase, while a negative covariance indicates that as one variable increases, the other tends to decrease.\n",
        ">>>Correlation is a normalized version of covariance that ranges between -1 and 1. It indicates both the strength and direction of the linear relationship between two variables. A correlation close to +1 or -1 indicates a strong relationship, while a correlation close to 0 indicates a weak or no linear relationship."
      ],
      "metadata": {
        "id": "j2dsbD6PdQHF"
      }
    }
  ]
}